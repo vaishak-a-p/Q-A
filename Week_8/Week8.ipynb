{
 "cells": [
  {
   "cell_type": "markdown",
   "id": "ec9d228c",
   "metadata": {},
   "source": [
    "# Q&A Activity on Testing of Hypothesis (Week 8)"
   ]
  },
  {
   "cell_type": "code",
   "execution_count": null,
   "id": "fe854c98",
   "metadata": {},
   "outputs": [],
   "source": []
  },
  {
   "cell_type": "code",
   "execution_count": 1,
   "id": "9268cf16",
   "metadata": {},
   "outputs": [],
   "source": [
    "# importing necessary libraries\n",
    "import numpy as np\n",
    "import pandas as pd\n",
    "import seaborn as sns\n",
    "import matplotlib.pyplot as plt\n",
    "from scipy import stats"
   ]
  },
  {
   "cell_type": "code",
   "execution_count": null,
   "id": "f5fb75f2",
   "metadata": {},
   "outputs": [],
   "source": []
  },
  {
   "cell_type": "markdown",
   "id": "21bcfe61",
   "metadata": {},
   "source": [
    "### 1. Carry out descriptive analytics on the dataset."
   ]
  },
  {
   "cell_type": "code",
   "execution_count": 2,
   "id": "68cc3cbc",
   "metadata": {},
   "outputs": [
    {
     "data": {
      "text/html": [
       "<div>\n",
       "<style scoped>\n",
       "    .dataframe tbody tr th:only-of-type {\n",
       "        vertical-align: middle;\n",
       "    }\n",
       "\n",
       "    .dataframe tbody tr th {\n",
       "        vertical-align: top;\n",
       "    }\n",
       "\n",
       "    .dataframe thead th {\n",
       "        text-align: right;\n",
       "    }\n",
       "</style>\n",
       "<table border=\"1\" class=\"dataframe\">\n",
       "  <thead>\n",
       "    <tr style=\"text-align: right;\">\n",
       "      <th></th>\n",
       "      <th>Gender</th>\n",
       "      <th>Test preparation</th>\n",
       "      <th>Total Marks</th>\n",
       "    </tr>\n",
       "  </thead>\n",
       "  <tbody>\n",
       "    <tr>\n",
       "      <th>0</th>\n",
       "      <td>male</td>\n",
       "      <td>none</td>\n",
       "      <td>14</td>\n",
       "    </tr>\n",
       "    <tr>\n",
       "      <th>1</th>\n",
       "      <td>female</td>\n",
       "      <td>none</td>\n",
       "      <td>28</td>\n",
       "    </tr>\n",
       "    <tr>\n",
       "      <th>2</th>\n",
       "      <td>female</td>\n",
       "      <td>none</td>\n",
       "      <td>18</td>\n",
       "    </tr>\n",
       "    <tr>\n",
       "      <th>3</th>\n",
       "      <td>female</td>\n",
       "      <td>none</td>\n",
       "      <td>48</td>\n",
       "    </tr>\n",
       "    <tr>\n",
       "      <th>4</th>\n",
       "      <td>female</td>\n",
       "      <td>none</td>\n",
       "      <td>21</td>\n",
       "    </tr>\n",
       "  </tbody>\n",
       "</table>\n",
       "</div>"
      ],
      "text/plain": [
       "   Gender Test preparation  Total Marks\n",
       "0    male             none           14\n",
       "1  female             none           28\n",
       "2  female             none           18\n",
       "3  female             none           48\n",
       "4  female             none           21"
      ]
     },
     "execution_count": 2,
     "metadata": {},
     "output_type": "execute_result"
    }
   ],
   "source": [
    "data = pd.read_csv('Week_8_Q&A_dataset - Sheet1.csv')\n",
    "data.head()"
   ]
  },
  {
   "cell_type": "markdown",
   "id": "61479e8f",
   "metadata": {},
   "source": [
    "Identifying the columns and it's data type in the data set"
   ]
  },
  {
   "cell_type": "code",
   "execution_count": 3,
   "id": "df492de7",
   "metadata": {},
   "outputs": [
    {
     "name": "stdout",
     "output_type": "stream",
     "text": [
      "<class 'pandas.core.frame.DataFrame'>\n",
      "RangeIndex: 28 entries, 0 to 27\n",
      "Data columns (total 3 columns):\n",
      " #   Column            Non-Null Count  Dtype \n",
      "---  ------            --------------  ----- \n",
      " 0   Gender            28 non-null     object\n",
      " 1   Test preparation  28 non-null     object\n",
      " 2   Total Marks       28 non-null     int64 \n",
      "dtypes: int64(1), object(2)\n",
      "memory usage: 800.0+ bytes\n"
     ]
    }
   ],
   "source": [
    "data.info()"
   ]
  },
  {
   "cell_type": "markdown",
   "id": "927b09e0",
   "metadata": {},
   "source": [
    "Finding the measures of central tendancy for the quantitative column in the data set:"
   ]
  },
  {
   "cell_type": "code",
   "execution_count": 4,
   "id": "88183dcd",
   "metadata": {},
   "outputs": [
    {
     "data": {
      "text/html": [
       "<div>\n",
       "<style scoped>\n",
       "    .dataframe tbody tr th:only-of-type {\n",
       "        vertical-align: middle;\n",
       "    }\n",
       "\n",
       "    .dataframe tbody tr th {\n",
       "        vertical-align: top;\n",
       "    }\n",
       "\n",
       "    .dataframe thead th {\n",
       "        text-align: right;\n",
       "    }\n",
       "</style>\n",
       "<table border=\"1\" class=\"dataframe\">\n",
       "  <thead>\n",
       "    <tr style=\"text-align: right;\">\n",
       "      <th></th>\n",
       "      <th>Total Marks</th>\n",
       "    </tr>\n",
       "  </thead>\n",
       "  <tbody>\n",
       "    <tr>\n",
       "      <th>count</th>\n",
       "      <td>28.000000</td>\n",
       "    </tr>\n",
       "    <tr>\n",
       "      <th>mean</th>\n",
       "      <td>32.321429</td>\n",
       "    </tr>\n",
       "    <tr>\n",
       "      <th>std</th>\n",
       "      <td>12.454520</td>\n",
       "    </tr>\n",
       "    <tr>\n",
       "      <th>min</th>\n",
       "      <td>12.000000</td>\n",
       "    </tr>\n",
       "    <tr>\n",
       "      <th>25%</th>\n",
       "      <td>22.500000</td>\n",
       "    </tr>\n",
       "    <tr>\n",
       "      <th>50%</th>\n",
       "      <td>33.000000</td>\n",
       "    </tr>\n",
       "    <tr>\n",
       "      <th>75%</th>\n",
       "      <td>43.250000</td>\n",
       "    </tr>\n",
       "    <tr>\n",
       "      <th>max</th>\n",
       "      <td>50.000000</td>\n",
       "    </tr>\n",
       "  </tbody>\n",
       "</table>\n",
       "</div>"
      ],
      "text/plain": [
       "       Total Marks\n",
       "count    28.000000\n",
       "mean     32.321429\n",
       "std      12.454520\n",
       "min      12.000000\n",
       "25%      22.500000\n",
       "50%      33.000000\n",
       "75%      43.250000\n",
       "max      50.000000"
      ]
     },
     "execution_count": 4,
     "metadata": {},
     "output_type": "execute_result"
    }
   ],
   "source": [
    "data.describe()"
   ]
  },
  {
   "cell_type": "markdown",
   "id": "96928ab8",
   "metadata": {},
   "source": [
    "Analyzing student's performance based on gender:"
   ]
  },
  {
   "cell_type": "code",
   "execution_count": 7,
   "id": "35f9978b",
   "metadata": {},
   "outputs": [
    {
     "data": {
      "text/plain": [
       "(28, 3)"
      ]
     },
     "execution_count": 7,
     "metadata": {},
     "output_type": "execute_result"
    }
   ],
   "source": [
    "data.shape"
   ]
  },
  {
   "cell_type": "markdown",
   "id": "e20edbaa",
   "metadata": {},
   "source": [
    "There are only 28 rows."
   ]
  },
  {
   "cell_type": "code",
   "execution_count": 8,
   "id": "c48ea4fb",
   "metadata": {},
   "outputs": [
    {
     "data": {
      "text/plain": [
       "array(['male', 'female'], dtype=object)"
      ]
     },
     "execution_count": 8,
     "metadata": {},
     "output_type": "execute_result"
    }
   ],
   "source": [
    "data['Gender'].unique()"
   ]
  },
  {
   "cell_type": "code",
   "execution_count": 9,
   "id": "08b1a059",
   "metadata": {},
   "outputs": [
    {
     "data": {
      "text/plain": [
       "array(['none', 'completed'], dtype=object)"
      ]
     },
     "execution_count": 9,
     "metadata": {},
     "output_type": "execute_result"
    }
   ],
   "source": [
    "data['Test preparation'].unique()"
   ]
  },
  {
   "cell_type": "markdown",
   "id": "0547249a",
   "metadata": {},
   "source": [
    "We can divide the population into two independent samples based on either gender or test preparation. Also the sample size is less than 30 and the population variance is not given. So we can perform Independent samples t-test / two sample t-test over the dataset."
   ]
  },
  {
   "cell_type": "code",
   "execution_count": null,
   "id": "013db6d6",
   "metadata": {},
   "outputs": [],
   "source": []
  },
  {
   "cell_type": "markdown",
   "id": "5709f85c",
   "metadata": {},
   "source": [
    "### 2. Check whether female and male students scored the same marks."
   ]
  },
  {
   "cell_type": "markdown",
   "id": "7efed99f",
   "metadata": {},
   "source": [
    "First of all, we form the null(Ho) and alternate hypothesis(Ha) as:\\\n",
    "**Ho:** Female and male students scored the same marks.\\\n",
    "**Ha:** Female and male students didn't scored the same marks."
   ]
  },
  {
   "cell_type": "code",
   "execution_count": 10,
   "id": "e0051243",
   "metadata": {},
   "outputs": [
    {
     "data": {
      "text/plain": [
       "array(['male', 'female'], dtype=object)"
      ]
     },
     "execution_count": 10,
     "metadata": {},
     "output_type": "execute_result"
    }
   ],
   "source": [
    "data['Gender'].unique()"
   ]
  },
  {
   "cell_type": "code",
   "execution_count": 11,
   "id": "977ec71c",
   "metadata": {},
   "outputs": [],
   "source": [
    "male_data = data[data['Gender'] == 'male']\n",
    "female_data = data[data['Gender'] == 'female']"
   ]
  },
  {
   "cell_type": "code",
   "execution_count": 12,
   "id": "35786054",
   "metadata": {},
   "outputs": [
    {
     "name": "stdout",
     "output_type": "stream",
     "text": [
      "Degrees of freedom = 26\n"
     ]
    }
   ],
   "source": [
    "degrees_of_freedom = male_data.shape[0] + female_data.shape[0] - 2\n",
    "significance_level = 0.05\n",
    "print(f'Degrees of freedom = {degrees_of_freedom}')"
   ]
  },
  {
   "cell_type": "markdown",
   "id": "0d9a758e",
   "metadata": {},
   "source": [
    "Forming the decision rule with significance level 0.05 and degrees of freedom 26:"
   ]
  },
  {
   "cell_type": "code",
   "execution_count": 13,
   "id": "52f2bf4c",
   "metadata": {},
   "outputs": [
    {
     "name": "stdout",
     "output_type": "stream",
     "text": [
      "T critical value = -1.7056179197592731\n"
     ]
    }
   ],
   "source": [
    "t_critical_value = stats.t.ppf(q=significance_level,df=degrees_of_freedom)\n",
    "print(f'T critical value = {t_critical_value}')"
   ]
  },
  {
   "cell_type": "markdown",
   "id": "d28ccd98",
   "metadata": {},
   "source": [
    "Decision rule: If t value is less than -1.705 or greater than 1.705, reject the null hypothesis."
   ]
  },
  {
   "cell_type": "markdown",
   "id": "89299bc2",
   "metadata": {},
   "source": [
    "Now, calculating the test statistic (t value):"
   ]
  },
  {
   "cell_type": "code",
   "execution_count": 14,
   "id": "6a37e4b3",
   "metadata": {},
   "outputs": [
    {
     "name": "stdout",
     "output_type": "stream",
     "text": [
      "Test statistic ttest = -0.6940885268848668\n"
     ]
    }
   ],
   "source": [
    "ttest_1,pval_1 = stats.ttest_ind(male_data['Total Marks'], female_data['Total Marks'])\n",
    "print(f'Test statistic ttest = {ttest_1}')"
   ]
  },
  {
   "cell_type": "code",
   "execution_count": 21,
   "id": "b7ef74d9",
   "metadata": {},
   "outputs": [
    {
     "name": "stdout",
     "output_type": "stream",
     "text": [
      "Whether t value is between -1.705 and 1.705: True\n"
     ]
    }
   ],
   "source": [
    "print(f'Whether t value is between -1.705 and 1.705: {ttest_1 > t_critical_value and ttest_1 < abs(t_critical_value)}')"
   ]
  },
  {
   "cell_type": "markdown",
   "id": "3ced8183",
   "metadata": {},
   "source": [
    "Here t value(-0.69) is between -1.705 and 1.705. So, we are not rejecting the null hypothesis Ho"
   ]
  },
  {
   "cell_type": "markdown",
   "id": "bb52e0f5",
   "metadata": {},
   "source": [
    "**Conclusion:** Female and male students scored the same mark."
   ]
  },
  {
   "cell_type": "markdown",
   "id": "24136da7",
   "metadata": {},
   "source": [
    "### 3. Whether test preparation helps the students?"
   ]
  },
  {
   "cell_type": "markdown",
   "id": "305737f9",
   "metadata": {},
   "source": [
    "First of all, we form the null(Ho) and alternate hypothesis(Ha) as:\n",
    "Ho: Students who completed the test preparation and those who didn't scored the same marks.\n",
    "Ha: Students who completed test preparation scored more than who didn't."
   ]
  },
  {
   "cell_type": "code",
   "execution_count": 15,
   "id": "e6327dd4",
   "metadata": {},
   "outputs": [
    {
     "data": {
      "text/plain": [
       "array(['none', 'completed'], dtype=object)"
      ]
     },
     "execution_count": 15,
     "metadata": {},
     "output_type": "execute_result"
    }
   ],
   "source": [
    "data['Test preparation'].unique()"
   ]
  },
  {
   "cell_type": "code",
   "execution_count": 16,
   "id": "44d7be2e",
   "metadata": {},
   "outputs": [],
   "source": [
    "with_preparation = data[data['Test preparation'] == 'completed']\n",
    "without_preparation = data[data['Test preparation'] == 'none']"
   ]
  },
  {
   "cell_type": "code",
   "execution_count": 17,
   "id": "cd4f5502",
   "metadata": {},
   "outputs": [
    {
     "name": "stdout",
     "output_type": "stream",
     "text": [
      "Degrees of freedom = 26\n"
     ]
    }
   ],
   "source": [
    "degrees_of_freedom = with_preparation.shape[0] + without_preparation.shape[0] - 2\n",
    "significance_level = 0.05\n",
    "print(f'Degrees of freedom = {degrees_of_freedom}')"
   ]
  },
  {
   "cell_type": "markdown",
   "id": "9d7a34cc",
   "metadata": {},
   "source": [
    "Forming the decision rule with significance level 0.05 and degrees of freedom 26:"
   ]
  },
  {
   "cell_type": "code",
   "execution_count": 18,
   "id": "e1256029",
   "metadata": {},
   "outputs": [
    {
     "name": "stdout",
     "output_type": "stream",
     "text": [
      "T critical value = -1.7056179197592731\n"
     ]
    }
   ],
   "source": [
    "t_critical_value = stats.t.ppf(q=significance_level,df=degrees_of_freedom)\n",
    "print(f'T critical value = {t_critical_value}')"
   ]
  },
  {
   "cell_type": "markdown",
   "id": "cbcc009e",
   "metadata": {},
   "source": [
    "Decision rule: If t value is less than -1.705 or greater than 1.705, reject the null hypothesis."
   ]
  },
  {
   "cell_type": "code",
   "execution_count": 19,
   "id": "52f31e92",
   "metadata": {},
   "outputs": [
    {
     "name": "stdout",
     "output_type": "stream",
     "text": [
      "Test statistic ttest = 3.6143637527769217\n"
     ]
    }
   ],
   "source": [
    "ttest_2, pval_2 = stats.ttest_ind(with_preparation['Total Marks'], without_preparation['Total Marks'])\n",
    "print(f'Test statistic ttest = {ttest_2}')"
   ]
  },
  {
   "cell_type": "code",
   "execution_count": 20,
   "id": "bb620f93",
   "metadata": {},
   "outputs": [
    {
     "name": "stdout",
     "output_type": "stream",
     "text": [
      "Whether t value is between -1.705 and 1.705: False\n"
     ]
    }
   ],
   "source": [
    "print(f'Whether t value is between -1.705 and 1.705: {ttest_2 > t_critical_value and ttest_2 < abs(t_critical_value)}')"
   ]
  },
  {
   "cell_type": "markdown",
   "id": "f1d0157e",
   "metadata": {},
   "source": [
    "Here t value does not lie between the critical values. So we can reject the null hypothesis."
   ]
  },
  {
   "cell_type": "markdown",
   "id": "f2819a0a",
   "metadata": {},
   "source": [
    "**Conclusion:** Students who completed the test preparation out-performed those who didn't"
   ]
  },
  {
   "cell_type": "code",
   "execution_count": null,
   "id": "99fcabef",
   "metadata": {},
   "outputs": [],
   "source": []
  }
 ],
 "metadata": {
  "kernelspec": {
   "display_name": "Python 3 (ipykernel)",
   "language": "python",
   "name": "python3"
  },
  "language_info": {
   "codemirror_mode": {
    "name": "ipython",
    "version": 3
   },
   "file_extension": ".py",
   "mimetype": "text/x-python",
   "name": "python",
   "nbconvert_exporter": "python",
   "pygments_lexer": "ipython3",
   "version": "3.9.0"
  }
 },
 "nbformat": 4,
 "nbformat_minor": 5
}
